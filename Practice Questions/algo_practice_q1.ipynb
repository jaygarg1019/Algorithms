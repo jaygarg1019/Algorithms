{
 "cells": [
  {
   "cell_type": "markdown",
   "metadata": {},
   "source": [
    "You are give an array with only int values. Find the pair that sums up to a given number. Return True or False. Assume the array is sorted and all the enteries are int only. \n"
   ]
  },
  {
   "cell_type": "code",
   "execution_count": 13,
   "metadata": {},
   "outputs": [
    {
     "name": "stdout",
     "output_type": "stream",
     "text": [
      "Enter int with spaces: 5 8 6 3 5 2 6 9 5 4\n",
      "Enter target sum: 12\n"
     ]
    },
    {
     "data": {
      "text/plain": [
       "True"
      ]
     },
     "execution_count": 13,
     "metadata": {},
     "output_type": "execute_result"
    }
   ],
   "source": [
    "'''Let the array be \n",
    "arr1 = [1, 2, 3, 4, 9] sum = 8 ; array return's False. \n",
    "arr2 = [1, 2, 3, 4, 5] sum = 8 ; array return's True. \n",
    "The first approach that comes top of my head is that for every int in the array, we can check all the elements\n",
    "in the array and compare if their sum matches the targated sum. The code would look something like this...\n",
    "''' \n",
    "def checkPairForSum(arr,target_sum):\n",
    "    for i in range(len(arr)-1): # len(arr)-1 because we have to stop at the 2nd last element of the array  \n",
    "        for j in range(i+1,len(arr)): # i+1 becasue we want to avoid repeated computation. \n",
    "            if arr[i] + arr[j] == target_sum:\n",
    "                return True\n",
    "    return False\n",
    "\n",
    "array = list(map(int,input('Enter int with spaces: ').split()))\n",
    "t_sum = int(input('Enter target sum: '))\n",
    "checkPairForSum(array, t_sum)"
   ]
  },
  {
   "cell_type": "markdown",
   "metadata": {},
   "source": [
    "*The above code works fine but it is a brute force algorithm. The time complexity is O(n^2). Thus, its runtime is horrible. We need to optimise the algorithm. Lets try doing other way:*\n",
    "\n",
    "1. Sort the array is accending order. \n",
    "\n",
    "2. Check if  sum of first two terms is smaller than or equal to the target sum and the sum of last two terms is greater than or equal to the target sum i.e., \n",
    "       if arr[0] + arr[1] <= sum <= arr[-1] + arr[-2]: do step 3\n",
    "       else: return False\n",
    " \n",
    "3. Add the 1st and the last element. If the sum is greater than the target_sum, then traverse 1 index down from the last element in the array, elif the sum in less than the target_sum, traverse 1 index up from the begining, else return True. \n",
    "\n",
    "4. If you donot return True and exit the while loop then you can conclude that no pairs add up to the target sum and return False. \n",
    "\n",
    "This is a much better function than the previous function since the time complexity is O(n). For the worst case i.e., if such pair doen't exist whose sum is equal to the target sum, then we have to traverse the array once which is n elements long. \n",
    "\n",
    "Lets code..."
   ]
  },
  {
   "cell_type": "code",
   "execution_count": 12,
   "metadata": {},
   "outputs": [
    {
     "name": "stdout",
     "output_type": "stream",
     "text": [
      "Enter int with spaces: 5 8 6 3 5 2 6 9 5 4\n",
      "Enter target sum: 12\n"
     ]
    },
    {
     "data": {
      "text/plain": [
       "True"
      ]
     },
     "execution_count": 12,
     "metadata": {},
     "output_type": "execute_result"
    }
   ],
   "source": [
    "def betterPairSumCheck(arr, target_sum):\n",
    "    count = 1 # pointer\n",
    "    if arr[0] + arr[1] <= target_sum <= arr[-1] + arr[-2]: # check if the taerget sum is in rage. \n",
    "        lower_term = arr[0]  # first term of array\n",
    "        upper_term = arr[-1] # last term of array\n",
    "        while lower_term <= upper_term: \n",
    "            ans = lower_term + upper_term\n",
    "            if ans > target_sum: \n",
    "                upper_term = arr[-1-count]  # step-down one index from the end\n",
    "            elif ans < target_sum:\n",
    "                lower_term = arr[count-1]  # step-up one index from the start\n",
    "            else:\n",
    "                return True \n",
    "            count += 1\n",
    "    else:\n",
    "        return False\n",
    "array = list(map(int,input('Enter int with spaces: ').split()))\n",
    "t_sum = int(input('Enter target sum: '))\n",
    "betterPairSumCheck(sorted(array), t_sum) # the array should be sorted (acs.)"
   ]
  },
  {
   "cell_type": "markdown",
   "metadata": {},
   "source": [
    "Let us try to code using a different algorithm technique. By generating a lookup table. Lookup function have time complexity of O(1). Let us try to leverate the advantage of lookup table to solve the problem. \n",
    "\n",
    "1. Generate an empty list = lookup[]. \n",
    "\n",
    "2. Compute target_sum - arr[i] = complement. \n",
    "\n",
    "3. Check if complement is present in the lookup[]. \n",
    "\n",
    "4. If not present then append arr[i] to lookup[]. Elif arr[i] in lookup[] then return True. \n",
    "\n",
    "5. If you reach at the end of the loop and did not return True then return False since there is no matching pair present in the array that sums up to the target sum. \n",
    "\n",
    "The can be better understood with an animation. \n",
    "\n",
    "Lets code..."
   ]
  },
  {
   "cell_type": "code",
   "execution_count": 2,
   "metadata": {},
   "outputs": [
    {
     "name": "stdout",
     "output_type": "stream",
     "text": [
      "Enter int with spaces: 1 2 3 5 9\n",
      "Enter target sum: 8\n"
     ]
    },
    {
     "data": {
      "text/plain": [
       "True"
      ]
     },
     "execution_count": 2,
     "metadata": {},
     "output_type": "execute_result"
    }
   ],
   "source": [
    "def LookUpPairSumCheck(arr, target_sum):\n",
    "    lookup = []\n",
    "    for i in arr:\n",
    "        complement = target_sum - i\n",
    "        if complement not in lookup:\n",
    "            lookup.append(i)\n",
    "        else:\n",
    "            return True\n",
    "    return False\n",
    "\n",
    "array = list(map(int,input('Enter int with spaces: ').split()))\n",
    "t_sum = int(input('Enter target sum: '))\n",
    "LookUpPairSumCheck(array, t_sum)\n"
   ]
  },
  {
   "cell_type": "markdown",
   "metadata": {},
   "source": [
    "Here you can see that last two functions have time complexity of O(n). But I would prefer the latter function because, it is simplier and has less computations. Also, in the latter you don't have to take care if the list is sorted or not. You don't have to worry about sorting the array in the first function as well, but as the input side increases the run time of the first function will increase quadrically since O(n^2). \n",
    "\n",
    "Every programmer wants to slove a problme. But only the good programmers care to solve it effeciently. Be the good programmer. \n",
    "\n",
    "*Code for a Cause! \n",
    "    Program for a Purpose!*"
   ]
  }
 ],
 "metadata": {
  "kernelspec": {
   "display_name": "Python 3",
   "language": "python",
   "name": "python3"
  },
  "language_info": {
   "codemirror_mode": {
    "name": "ipython",
    "version": 3
   },
   "file_extension": ".py",
   "mimetype": "text/x-python",
   "name": "python",
   "nbconvert_exporter": "python",
   "pygments_lexer": "ipython3",
   "version": "3.7.6"
  }
 },
 "nbformat": 4,
 "nbformat_minor": 4
}
