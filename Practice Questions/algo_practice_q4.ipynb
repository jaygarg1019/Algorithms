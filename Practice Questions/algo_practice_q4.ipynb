{
 "cells": [
  {
   "cell_type": "raw",
   "metadata": {},
   "source": [
    "Merge sorted array. \n",
    "I/P = [0,3,4,31], [4,6,30]\n",
    "O/P = [0,3,4,4,6,30,31]"
   ]
  },
  {
   "cell_type": "code",
   "execution_count": 4,
   "metadata": {},
   "outputs": [
    {
     "name": "stdout",
     "output_type": "stream",
     "text": [
      "[0, 3, 4, 4, 6, 30, 31]\n"
     ]
    }
   ],
   "source": [
    "array1 = [0,3,4,31]\n",
    "array2 = [4,6,30]\n",
    "merged = sorted(array1 + array2) # time complexity O(nlogn)\n",
    "print(merged)"
   ]
  },
  {
   "cell_type": "markdown",
   "metadata": {},
   "source": [
    "**The time complexity can be improved to O(n).**"
   ]
  },
  {
   "cell_type": "code",
   "execution_count": 21,
   "metadata": {},
   "outputs": [
    {
     "name": "stdout",
     "output_type": "stream",
     "text": [
      "[0, 3, 4, 4, 6, 30, 31]\n"
     ]
    }
   ],
   "source": [
    "array1 = [0,3,4,31]\n",
    "array2 = [4,6,30]\n",
    "i = 0\n",
    "j = 0\n",
    "merged = []\n",
    "while 1:\n",
    "    if array1[i]<array2[j]:\n",
    "        merged.append(array1[i])\n",
    "        i += 1\n",
    "        if i == len(array1):\n",
    "            left_out_terms_in_array2 = array2[j:]\n",
    "            merged = merged + left_out_terms_in_array2\n",
    "            break\n",
    "    else:\n",
    "        merged.append(array2[j])\n",
    "        j += 1\n",
    "        if j == len(array2):\n",
    "            left_out_terms_in_array1 = array1[i:]\n",
    "            merged= merged + left_out_terms_in_array1\n",
    "            break\n",
    "print(merged)"
   ]
  }
 ],
 "metadata": {
  "kernelspec": {
   "display_name": "Python 3",
   "language": "python",
   "name": "python3"
  },
  "language_info": {
   "codemirror_mode": {
    "name": "ipython",
    "version": 3
   },
   "file_extension": ".py",
   "mimetype": "text/x-python",
   "name": "python",
   "nbconvert_exporter": "python",
   "pygments_lexer": "ipython3",
   "version": "3.7.6"
  }
 },
 "nbformat": 4,
 "nbformat_minor": 4
}
