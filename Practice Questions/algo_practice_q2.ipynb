{
 "cells": [
  {
   "cell_type": "markdown",
   "metadata": {},
   "source": [
    "Write a function to reverse a string. "
   ]
  },
  {
   "cell_type": "code",
   "execution_count": 2,
   "metadata": {},
   "outputs": [
    {
     "name": "stdout",
     "output_type": "stream",
     "text": [
      "Enter a string to be reversed: hi my name is jay\n"
     ]
    },
    {
     "data": {
      "text/plain": [
       "'yaj si eman ym i'"
      ]
     },
     "execution_count": 2,
     "metadata": {},
     "output_type": "execute_result"
    }
   ],
   "source": [
    "def reverseString(string):\n",
    "    reversed_string = []\n",
    "    for i in range(1,len(string)):\n",
    "        reversed_string.append(string[-i])\n",
    "    return ''.join(reversed_string)\n",
    "s = input('Enter a string to be reversed: ')\n",
    "reverseString(s)"
   ]
  },
  {
   "cell_type": "markdown",
   "metadata": {},
   "source": [
    "Now there are two other where in python to reverse a string using inbuild function. \n",
    "\n",
    "*1. Use of the string splice technique. But this technique makes your code hard to read.* "
   ]
  },
  {
   "cell_type": "code",
   "execution_count": 3,
   "metadata": {},
   "outputs": [
    {
     "name": "stdout",
     "output_type": "stream",
     "text": [
      "Enter a sting to be reversed: hi my name is jay\n"
     ]
    },
    {
     "data": {
      "text/plain": [
       "'yaj si eman ym ih'"
      ]
     },
     "execution_count": 3,
     "metadata": {},
     "output_type": "execute_result"
    }
   ],
   "source": [
    "def stringReverseWithSplice(string):\n",
    "    return string[::-1]\n",
    "s = input('Enter a sting to be reversed: ')\n",
    "stringReverseWithSplice(s)"
   ]
  },
  {
   "cell_type": "markdown",
   "metadata": {},
   "source": [
    "*2. Use of the function string.reverse(). It doesn't return anything but reverses the string/list in place. It has a time complexity O(n) and space complexity O(n). Also, it is easy to ready and understand. I prefer this method.* "
   ]
  },
  {
   "cell_type": "code",
   "execution_count": 7,
   "metadata": {},
   "outputs": [
    {
     "name": "stdout",
     "output_type": "stream",
     "text": [
      "Enter a sting to be reversed: hi my\n"
     ]
    },
    {
     "data": {
      "text/plain": [
       "'ym ih'"
      ]
     },
     "execution_count": 7,
     "metadata": {},
     "output_type": "execute_result"
    }
   ],
   "source": [
    "def stringReverse(string):\n",
    "    string = list(string) # reverse() fun. works only on list. \n",
    "    string.reverse() # returns nothing. revelsal done in place.  \n",
    "    return ''.join(string)\n",
    "s = input('Enter a sting to be reversed: ')\n",
    "stringReverse(s)"
   ]
  }
 ],
 "metadata": {
  "kernelspec": {
   "display_name": "Python 3",
   "language": "python",
   "name": "python3"
  },
  "language_info": {
   "codemirror_mode": {
    "name": "ipython",
    "version": 3
   },
   "file_extension": ".py",
   "mimetype": "text/x-python",
   "name": "python",
   "nbconvert_exporter": "python",
   "pygments_lexer": "ipython3",
   "version": "3.7.6"
  }
 },
 "nbformat": 4,
 "nbformat_minor": 4
}
