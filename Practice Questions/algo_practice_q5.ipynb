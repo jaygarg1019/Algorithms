{
 "cells": [
  {
   "cell_type": "raw",
   "metadata": {},
   "source": [
    "Given an array of integers, return indices of the two numbers such that they add up to a specific target.\n",
    "\n",
    "You may assume that each input would have exactly one solution, and you may not use the same element twice.\n",
    "\n",
    "Example:\n",
    "\n",
    "Given nums = [2, 7, 11, 15], target = 9,\n",
    "Because nums[0] + nums[1] = 2 + 7 = 9,\n",
    "return [0, 1]."
   ]
  },
  {
   "cell_type": "markdown",
   "metadata": {},
   "source": [
    "*Brute force*"
   ]
  },
  {
   "cell_type": "code",
   "execution_count": 30,
   "metadata": {},
   "outputs": [
    {
     "name": "stdout",
     "output_type": "stream",
     "text": [
      "0 2\n"
     ]
    }
   ],
   "source": [
    "nums = [3,2,3]\n",
    "target = 6\n",
    "for i in range(len(nums)-1): # loop till the second last element of the array\n",
    "    for j in range(i+1, len(nums)): #start from the next element till the end of the array. Avoiding recomputation. \n",
    "        if nums[i]+nums[j] == target:\n",
    "            print(nums.index(nums[i]), nums.index(nums[j],j)) # second index is checked from the right of the first element index.  \n",
    "            # O(n^2)"
   ]
  },
  {
   "cell_type": "markdown",
   "metadata": {},
   "source": [
    "*Hash Table*"
   ]
  },
  {
   "cell_type": "code",
   "execution_count": 24,
   "metadata": {},
   "outputs": [
    {
     "name": "stdout",
     "output_type": "stream",
     "text": [
      "{7: 0}\n",
      "0 1\n",
      "{7: 0, -2: 2}\n",
      "{7: 0, -2: 2, -6: 3}\n"
     ]
    }
   ],
   "source": [
    "nums = [2,7,11,15]\n",
    "target = 9\n",
    "lookup = dict()\n",
    "for i in range(len(nums)):\n",
    "    complement = target - nums[i]\n",
    "    if nums[i] in lookup: # check if the element was already a complement of any number already seen. \n",
    "        print(lookup[nums[i]], i)\n",
    "    else:\n",
    "        lookup[complement] = i # save hte complement and the index\n",
    "        print(lookup)\n",
    "# O(n)"
   ]
  }
 ],
 "metadata": {
  "kernelspec": {
   "display_name": "Python 3",
   "language": "python",
   "name": "python3"
  },
  "language_info": {
   "codemirror_mode": {
    "name": "ipython",
    "version": 3
   },
   "file_extension": ".py",
   "mimetype": "text/x-python",
   "name": "python",
   "nbconvert_exporter": "python",
   "pygments_lexer": "ipython3",
   "version": "3.7.6"
  }
 },
 "nbformat": 4,
 "nbformat_minor": 4
}
