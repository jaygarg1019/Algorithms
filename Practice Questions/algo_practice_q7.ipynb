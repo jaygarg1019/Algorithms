{
 "cells": [
  {
   "cell_type": "markdown",
   "metadata": {},
   "source": [
    "### Hacker Rank Question: Repeated String\n",
    "\n",
    "You will be given a string (s) and an int digit (n). Consider an infinite string which is made by repeating the given s. From this infinitly long string you have to take a sub string which is of n length and find the number of 'a' in that substring. \n",
    "\n",
    "Note: The value of n can be very big and that will take very long to compile. So you will have to find an opimal solution."
   ]
  },
  {
   "cell_type": "markdown",
   "metadata": {},
   "source": [
    "It is always a good idea to start with a brute force algorithm. It would simply be that first you creat the substring and then count the number of 'a' appearing in the substring. Let's code it. "
   ]
  },
  {
   "cell_type": "code",
   "execution_count": 1,
   "metadata": {},
   "outputs": [
    {
     "name": "stdout",
     "output_type": "stream",
     "text": [
      "abcdaabcda\n",
      "4\n"
     ]
    }
   ],
   "source": [
    "s = 'abcda'\n",
    "n = 10\n",
    "count = 0\n",
    "s_index = 0 # used to loop over the give string\n",
    "sub_s = s # create a dupticate and then do changes in the duplicate. \n",
    "\n",
    "# This while loop will create the substring. \n",
    "while (count < n - len(s)): # subtract len(s) because the total length of the sub string should be n. \n",
    "    sub_s = sub_s + s[s_index]\n",
    "    if s_index + 1 < len(s):\n",
    "        s_index += 1\n",
    "    else: # if you reach the end of s then start from the begining. \n",
    "        s_index = 0\n",
    "    count += 1\n",
    "print(sub_s)\n",
    "a_count = 0\n",
    "\n",
    "# This for loop will count the number of 'a' in the substing. \n",
    "for j in sub_s:\n",
    "    if j == 'a':\n",
    "        a_count += 1\n",
    "print(a_count)"
   ]
  },
  {
   "cell_type": "markdown",
   "metadata": {},
   "source": [
    "The time complexity of this code is O(n) which is not bad but it will become worse if n == 100000\n",
    "Also, consider some special cases like if s is of length 1 and it has only a in it. Or may be s is 10 characters long but it has only 'a' in it. \n",
    "Another special case out be what it n is less than the length of s. \n",
    "Finally, if s is 10 characters long with all 'a' and n is less than len(s), for exampele 3. \n",
    "\n",
    "We can make special cases to handle this situation. But it is difficult to handle all the special cases. Lets try to code to deal with some the special cases. \n",
    "\n",
    "Inputs for special cases: \n",
    "s = 'a'\n",
    "\n",
    "n = 100000000\n",
    "\n",
    "s = 'ababaa'\n",
    "\n",
    "n = 3"
   ]
  },
  {
   "cell_type": "code",
   "execution_count": 23,
   "metadata": {},
   "outputs": [
    {
     "name": "stdout",
     "output_type": "stream",
     "text": [
      "Special case 1 was executed\n",
      "3\n",
      "Special case 2 was executed\n",
      "3\n",
      "aaaaaaa\n",
      "7\n"
     ]
    }
   ],
   "source": [
    "s = 'ababaa'\n",
    "n = 3\n",
    "count = 0\n",
    "s_index = 0\n",
    "sub_s = s\n",
    "a_count = 0\n",
    "# special case 1: if n is less than the lenth of the string. \n",
    "def nLessThnakString(s,n):\n",
    "    a_count = 0\n",
    "    if n <= len(s):\n",
    "        for each_char in s[:n]:\n",
    "            if each_char == 'a':\n",
    "                a_count += 1\n",
    "        print('Special case 1 was executed')\n",
    "        return a_count\n",
    "# if a is the only character in the given string and n very big. \n",
    "def stringHasAonly(s,n):\n",
    "    a_count = 0\n",
    "    for each_char in s:\n",
    "        if each_char == 'a':\n",
    "            a_count += 1\n",
    "    if len(s) == a_count:\n",
    "        print('Special case 2 was executed')\n",
    "        return n\n",
    "print(nLessThnakString(s,n))\n",
    "print(stringHasAonly(s,n))\n",
    "if n < 50: # this condition will help you to analyze special case 2. \n",
    "# Removing this condition will make the while loop condition true and it will take ages to computer for \n",
    "# large values of n. \n",
    "    while (count < n - len(s)):\n",
    "        sub_s = sub_s + s[s_index]\n",
    "        if s_index + 1 < len(s):\n",
    "            s_index += 1\n",
    "        else: \n",
    "            s_index = 0\n",
    "        count += 1\n",
    "    print(sub_s)\n",
    "    a_count = 0\n",
    "\n",
    "    for j in sub_s:\n",
    "        if j == 'a':\n",
    "            a_count += 1\n",
    "    print(a_count)"
   ]
  },
  {
   "cell_type": "markdown",
   "metadata": {},
   "source": [
    "After making two functions to handle the special cases =, the program fails to give correct output to the following input: \n",
    "\n",
    "s = 'aaaaaaaaaaaa'\n",
    "n = 3"
   ]
  },
  {
   "cell_type": "markdown",
   "metadata": {},
   "source": [
    "Even if we hard code to deal with all the special cases, this is not the optimal solution. If the string is not a special case and is some random arrangement of characters such as \n",
    "\n",
    "s = 'ahdjfnghdyagfhryfhsjakrifnaamgjfui'\n",
    "\n",
    "n = 28555742994\n",
    "\n",
    "It will not compute. Let us code the optima solution. "
   ]
  },
  {
   "cell_type": "code",
   "execution_count": 22,
   "metadata": {},
   "outputs": [
    {
     "name": "stdout",
     "output_type": "stream",
     "text": [
      "No. of times \"a\" appears in the given string: 5\n",
      "This string is 34 characters long. If you create a sting which should be 28555742994 charaters long\n",
      "by repeating the given string, then the string will repeat completely 839874793 times.\n",
      "and each string has 5 a's. Thus total no. of a's in all the repeatation will be:4199373965\n",
      "Finally, 32 characters will be left out of 28555742994. So to compute that we run another\n",
      "for loop to count the no of a's in the remainiang 32\n",
      "There were 5 a's in the left out charaters.\n",
      "Final result: 4199373970\n"
     ]
    }
   ],
   "source": [
    "s = 'ahdjfnghdyagfhryfhsjakrifnaamgjfui'\n",
    "n = 28555742994\n",
    "a_count = 0\n",
    "remaining_count = 0\n",
    "for i in s: \n",
    "    if i == 'a':\n",
    "        a_count += 1\n",
    "print(f'No. of times \"a\" appears in the given string: {a_count}')\n",
    "print(f'This string is {len(s)} characters long. If you create a sting which should be {n} charaters long')\n",
    "print(f'by repeating the given string, then the string will repeat completely {n//len(s)} times.')\n",
    "print(f'and each string has {a_count} a\\'s. Thus total no. of a\\'s in all the repeatation will be:', end = '')\n",
    "a_count = (n//len(s))*a_count #this will count for repetations that occure completelty\n",
    "print(a_count)\n",
    "print(f'Finally, {n%len(s)} characters will be left out of {n}. So to compute that we run another')\n",
    "print(f'for loop to count the no of a\\'s in the remainiang {n%len(s)}')\n",
    "for j in s[:n%len(s)]: # this will count and add the half/sub_part of repetation. \n",
    "    if j == 'a':\n",
    "        remaining_count += 1\n",
    "print(f'There were {remaining_count} a\\'s in the left out charaters.')\n",
    "print(f'Final result: {a_count+remaining_count}')"
   ]
  },
  {
   "cell_type": "markdown",
   "metadata": {},
   "source": [
    "This agorithm also has a time complexity of O(n) but here n is the length of s and not the substring created from the infinite string. "
   ]
  }
 ],
 "metadata": {
  "kernelspec": {
   "display_name": "Python 3",
   "language": "python",
   "name": "python3"
  },
  "language_info": {
   "codemirror_mode": {
    "name": "ipython",
    "version": 3
   },
   "file_extension": ".py",
   "mimetype": "text/x-python",
   "name": "python",
   "nbconvert_exporter": "python",
   "pygments_lexer": "ipython3",
   "version": "3.7.6"
  }
 },
 "nbformat": 4,
 "nbformat_minor": 4
}
