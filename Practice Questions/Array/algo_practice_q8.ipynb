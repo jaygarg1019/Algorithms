{
 "cells": [
  {
   "cell_type": "markdown",
   "metadata": {},
   "source": [
    "### Hacker Rank: 2D Arrays\n",
    "You are given a 6X6 martix in the form of array. \n",
    "\n",
    "[1 2 3 4 5 6\n",
    "\n",
    " 0 1 2 3 4 5\n",
    " \n",
    " 9 8 7 6 5 4\n",
    " \n",
    " 5 6 3 2 1 4\n",
    " \n",
    " 4 5 6 9 8 7\n",
    " \n",
    " 1 2 5 6 9 8]\n",
    " \n",
    " You have to calculate sum by adding the elements at the following location. \n",
    " \n",
    "a b c\n",
    "\n",
    "  d  \n",
    "  \n",
    "e f g\n",
    "\n",
    "You will get 16 such values. Find the maximum of all the sums. "
   ]
  },
  {
   "cell_type": "markdown",
   "metadata": {},
   "source": [
    "Brute force Algorithm. You can hard code for all the 16 values and apppend to a list. Then find the max. "
   ]
  },
  {
   "cell_type": "code",
   "execution_count": 2,
   "metadata": {},
   "outputs": [],
   "source": [
    "arr = [[1, 2, 3, 4, 5, 6], [0, 1, 2, 3, 4, 5], [9, 8, 7, 6, 5, 4], [5, 6, 3, 2, 1, 4], [4, 5, 6, 9, 8, 7], [1, 2, 5, 6, 9, 8]]"
   ]
  },
  {
   "cell_type": "code",
   "execution_count": 5,
   "metadata": {},
   "outputs": [
    {
     "name": "stdout",
     "output_type": "stream",
     "text": [
      "[31, 32, 33, 34, 25, 24, 21, 24, 45, 44, 43, 40, 27, 30, 35, 38]\n",
      "45\n"
     ]
    }
   ],
   "source": [
    "glass_hr = []\n",
    "# row 1 col 1 - row 1 col 4\n",
    "glass_hr.append(arr[0][0] + arr[0][1] + arr[0][2] + arr[1][1] + arr[2][0] + arr[2][1] + arr[2][2])\n",
    "glass_hr.append(arr[0][1] + arr[0][2] + arr[0][3] + arr[1][2] + arr[2][1] + arr[2][2] + arr[2][3])\n",
    "glass_hr.append(arr[0][2] + arr[0][3] + arr[0][4] + arr[1][3] + arr[2][2] + arr[2][3] + arr[2][4])\n",
    "glass_hr.append(arr[0][3] + arr[0][4] + arr[0][5] + arr[1][4] + arr[2][3] + arr[2][4] + arr[2][5])\n",
    "# row 2 col 1 - row 1 col 4\n",
    "glass_hr.append(arr[1][0] + arr[1][1] + arr[1][2] + arr[2][1] + arr[3][0] + arr[3][1] + arr[3][2])\n",
    "glass_hr.append(arr[1][1] + arr[1][2] + arr[1][3] + arr[2][2] + arr[3][1] + arr[3][2] + arr[3][3])\n",
    "glass_hr.append(arr[1][2] + arr[1][3] + arr[1][4] + arr[2][3] + arr[3][2] + arr[3][3] + arr[3][4])\n",
    "glass_hr.append(arr[1][3] + arr[1][4] + arr[1][5] + arr[2][4] + arr[3][3] + arr[3][4] + arr[3][5])\n",
    "# row 3 col 1 - row 1 col 4\n",
    "glass_hr.append(arr[2][0] + arr[2][1] + arr[2][2] + arr[3][1] + arr[4][0] + arr[4][1] + arr[4][2])\n",
    "glass_hr.append(arr[2][1] + arr[2][2] + arr[2][3] + arr[3][2] + arr[4][1] + arr[4][2] + arr[4][3])\n",
    "glass_hr.append(arr[2][2] + arr[2][3] + arr[2][4] + arr[3][3] + arr[4][2] + arr[4][3] + arr[4][4])\n",
    "glass_hr.append(arr[2][3] + arr[2][4] + arr[2][5] + arr[3][4] + arr[4][3] + arr[4][4] + arr[4][5])\n",
    "# row 4 col 1 - row 1 col 4\n",
    "glass_hr.append(arr[3][0] + arr[3][1] + arr[3][2] + arr[4][1] + arr[5][0] + arr[5][1] + arr[5][2])\n",
    "glass_hr.append(arr[3][1] + arr[3][2] + arr[3][3] + arr[4][2] + arr[5][1] + arr[5][2] + arr[5][3])\n",
    "glass_hr.append(arr[3][2] + arr[3][3] + arr[3][4] + arr[4][3] + arr[5][2] + arr[5][3] + arr[5][4])\n",
    "glass_hr.append(arr[3][3] + arr[3][4] + arr[3][5] + arr[4][4] + arr[5][3] + arr[5][4] + arr[5][5])\n",
    "\n",
    "print(glass_hr)\n",
    "print(max(glass_hr))"
   ]
  },
  {
   "cell_type": "markdown",
   "metadata": {},
   "source": [
    "It takes a while to hard code, but if you do then it will be a code with O(1). An alternative way to code is..."
   ]
  },
  {
   "cell_type": "code",
   "execution_count": 7,
   "metadata": {},
   "outputs": [
    {
     "name": "stdout",
     "output_type": "stream",
     "text": [
      "[31, 32, 33, 34, 25, 24, 21, 24, 45, 44, 43, 40, 27, 30, 35, 38]\n",
      "45\n"
     ]
    }
   ],
   "source": [
    "ans = []\n",
    "for i in range(len(arr)-2): \n",
    "    for j in range(len(arr)-2): \n",
    "        ans.append(arr[i][j] + arr[i][j+1] + arr[i][j+2] + arr[i+1][j+1] + arr[i+2][j] + arr[i+2][j+1] + arr[i+2][j+2])\n",
    "\n",
    "print(ans)\n",
    "print(max(ans))      "
   ]
  },
  {
   "cell_type": "markdown",
   "metadata": {},
   "source": [
    "This is a much better way to write code. Also, you have to write less lines of code. "
   ]
  }
 ],
 "metadata": {
  "kernelspec": {
   "display_name": "Python 3",
   "language": "python",
   "name": "python3"
  },
  "language_info": {
   "codemirror_mode": {
    "name": "ipython",
    "version": 3
   },
   "file_extension": ".py",
   "mimetype": "text/x-python",
   "name": "python",
   "nbconvert_exporter": "python",
   "pygments_lexer": "ipython3",
   "version": "3.7.6"
  }
 },
 "nbformat": 4,
 "nbformat_minor": 4
}
