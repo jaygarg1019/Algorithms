{
 "cells": [
  {
   "cell_type": "markdown",
   "metadata": {},
   "source": [
    "Google interview question:\n",
    "Given an array = [2,5,1,8,6,2,4,5,6,8]\n",
    "It should return 2. The first recurring funcion. \n",
    "\n",
    "Given an array = [2,1,1,2,5,7,9]\n",
    "It should return 1\n",
    "\n",
    "Given an array = [1,2,3,4,5]\n",
    "It should return None. "
   ]
  },
  {
   "cell_type": "code",
   "execution_count": 4,
   "metadata": {},
   "outputs": [
    {
     "data": {
      "text/plain": [
       "'None'"
      ]
     },
     "execution_count": 4,
     "metadata": {},
     "output_type": "execute_result"
    }
   ],
   "source": [
    "def firstRecurringNum(array):\n",
    "    lookup = []\n",
    "    for i in array:\n",
    "        if i not in lookup:\n",
    "            lookup.append(i)\n",
    "        else:\n",
    "            return i \n",
    "    return 'None'\n",
    "\n",
    "arr = [1,2,3,4,5]\n",
    "firstRecurringNum(arr)\n",
    "    "
   ]
  }
 ],
 "metadata": {
  "kernelspec": {
   "display_name": "Python 3",
   "language": "python",
   "name": "python3"
  },
  "language_info": {
   "codemirror_mode": {
    "name": "ipython",
    "version": 3
   },
   "file_extension": ".py",
   "mimetype": "text/x-python",
   "name": "python",
   "nbconvert_exporter": "python",
   "pygments_lexer": "ipython3",
   "version": "3.7.6"
  }
 },
 "nbformat": 4,
 "nbformat_minor": 4
}
